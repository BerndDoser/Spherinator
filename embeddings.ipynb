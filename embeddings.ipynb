{
 "cells": [
  {
   "cell_type": "code",
   "execution_count": 27,
   "metadata": {},
   "outputs": [
    {
     "name": "stdout",
     "output_type": "stream",
     "text": [
      "tensor([0, 1, 2, 3])\n"
     ]
    },
    {
     "data": {
      "text/plain": [
       "tensor([[ 1.5410, -0.2934],\n",
       "        [-2.1788,  0.5684],\n",
       "        [-1.0845, -1.3986],\n",
       "        [ 0.4033,  0.8380]], grad_fn=<EmbeddingBackward0>)"
      ]
     },
     "execution_count": 27,
     "metadata": {},
     "output_type": "execute_result"
    }
   ],
   "source": [
    "import torch\n",
    "import torch.nn as nn\n",
    "\n",
    "torch.manual_seed(0)\n",
    "\n",
    "# embedding = nn.Embedding(3*128*128, 2)\n",
    "# data = embedding(torch.flatten(image))\n",
    "\n",
    "embedding = nn.Embedding(4, 2)\n",
    "# input = torch.tensor([[1, 2, 3, 4], [4, 5, 6, 7]])\n",
    "input = torch.tensor([0, 1, 2, 3])\n",
    "print(input)\n",
    "data = embedding(input)\n",
    "\n",
    "data"
   ]
  }
 ],
 "metadata": {
  "kernelspec": {
   "display_name": "spherinator-tzU8h4HZ-py3.10",
   "language": "python",
   "name": "python3"
  },
  "language_info": {
   "codemirror_mode": {
    "name": "ipython",
    "version": 3
   },
   "file_extension": ".py",
   "mimetype": "text/x-python",
   "name": "python",
   "nbconvert_exporter": "python",
   "pygments_lexer": "ipython3",
   "version": "3.10.12"
  }
 },
 "nbformat": 4,
 "nbformat_minor": 2
}
