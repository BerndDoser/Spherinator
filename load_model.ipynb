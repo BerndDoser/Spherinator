{
 "cells": [
  {
   "cell_type": "code",
   "execution_count": null,
   "metadata": {},
   "outputs": [],
   "source": [
    "from os import path\n",
    "import torch\n",
    "\n",
    "path = \"/local_data/doserbd/train/2024-4-28/shapes/\"\n",
    "ckpt = path + \"spherinator/75w0tj0u/checkpoints/epoch=100-train_loss=0.03.ckpt\"\n",
    "model = torch.load(ckpt)\n",
    "state_dict = model[\"state_dict\"]\n",
    "state_dict.keys()"
   ]
  },
  {
   "cell_type": "code",
   "execution_count": null,
   "metadata": {},
   "outputs": [],
   "source": [
    "import yaml\n",
    "import importlib\n",
    "\n",
    "with open(path + \"config.yaml\", \"r\", encoding=\"utf-8\") as stream:\n",
    "    config = yaml.load(stream, Loader=yaml.Loader)\n",
    "\n",
    "model_class_path = config[\"model\"][\"class_path\"]\n",
    "module_name, class_name = model_class_path.rsplit(\".\", 1)\n",
    "module_name, class_name"
   ]
  },
  {
   "cell_type": "code",
   "execution_count": null,
   "metadata": {},
   "outputs": [],
   "source": [
    "module = importlib.import_module(module_name)\n",
    "\n",
    "model_class = getattr(module, class_name)\n",
    "model_init_args = config[\"model\"][\"init_args\"]\n",
    "model = model_class(**model_init_args)\n",
    "model_class"
   ]
  },
  {
   "cell_type": "code",
   "execution_count": null,
   "metadata": {},
   "outputs": [],
   "source": [
    "# FIXME: This is a hack to load the model on the GPU\n",
    "# See https://pytorch.org/docs/stable/generated/torch.load.html for map_location\n",
    "checkpoint = torch.load(ckpt, map_location=\"cuda:0\")"
   ]
  },
  {
   "cell_type": "code",
   "execution_count": null,
   "metadata": {},
   "outputs": [],
   "source": [
    "model = model_class.load_from_checkpoint(ckpt)"
   ]
  },
  {
   "cell_type": "code",
   "execution_count": null,
   "metadata": {},
   "outputs": [],
   "source": [
    "encoder_weights = {k: v for k, v in checkpoint[\"state_dict\"].items() if k.startswith(\"encoder.\")}\n",
    "decoder_weights = {k: v for k, v in checkpoint[\"state_dict\"].items() if k.startswith(\"decoder.\")}"
   ]
  },
  {
   "cell_type": "code",
   "execution_count": null,
   "metadata": {},
   "outputs": [],
   "source": [
    "# model.load_state_dict(checkpoint[\"state_dict\"], strict=True)\n",
    "model.eval()"
   ]
  }
 ],
 "metadata": {
  "kernelspec": {
   "display_name": "spherinator",
   "language": "python",
   "name": "python3"
  },
  "language_info": {
   "codemirror_mode": {
    "name": "ipython",
    "version": 3
   },
   "file_extension": ".py",
   "mimetype": "text/x-python",
   "name": "python",
   "nbconvert_exporter": "python",
   "pygments_lexer": "ipython3",
   "version": "3.10.12"
  }
 },
 "nbformat": 4,
 "nbformat_minor": 2
}
