{
 "cells": [
  {
   "cell_type": "code",
   "execution_count": 1,
   "metadata": {},
   "outputs": [
    {
     "name": "stderr",
     "output_type": "stream",
     "text": [
      "\u001b[34m\u001b[1mwandb\u001b[0m: Using wandb-core as the SDK backend.  Please refer to https://wandb.me/wandb-core for more information.\n",
      "\u001b[34m\u001b[1mwandb\u001b[0m: Currently logged in as: \u001b[33mbernddoser\u001b[0m. Use \u001b[1m`wandb login --relogin`\u001b[0m to force relogin\n"
     ]
    },
    {
     "data": {
      "text/html": [
       "Tracking run with wandb version 0.18.7"
      ],
      "text/plain": [
       "<IPython.core.display.HTML object>"
      ]
     },
     "metadata": {},
     "output_type": "display_data"
    },
    {
     "data": {
      "text/html": [
       "Run data is saved locally in <code>/home/doserbd/git/Spherinator-main/gaia/wandb/run-20241218_151143-kfmzdw39</code>"
      ],
      "text/plain": [
       "<IPython.core.display.HTML object>"
      ]
     },
     "metadata": {},
     "output_type": "display_data"
    },
    {
     "data": {
      "text/html": [
       "Syncing run <strong><a href='https://wandb.ai/bernddoser/Spherinator-main-gaia/runs/kfmzdw39' target=\"_blank\">neat-yogurt-7</a></strong> to <a href='https://wandb.ai/bernddoser/Spherinator-main-gaia' target=\"_blank\">Weights & Biases</a> (<a href='https://wandb.me/developer-guide' target=\"_blank\">docs</a>)<br/>"
      ],
      "text/plain": [
       "<IPython.core.display.HTML object>"
      ]
     },
     "metadata": {},
     "output_type": "display_data"
    },
    {
     "data": {
      "text/html": [
       " View project at <a href='https://wandb.ai/bernddoser/Spherinator-main-gaia' target=\"_blank\">https://wandb.ai/bernddoser/Spherinator-main-gaia</a>"
      ],
      "text/plain": [
       "<IPython.core.display.HTML object>"
      ]
     },
     "metadata": {},
     "output_type": "display_data"
    },
    {
     "data": {
      "text/html": [
       " View run at <a href='https://wandb.ai/bernddoser/Spherinator-main-gaia/runs/kfmzdw39' target=\"_blank\">https://wandb.ai/bernddoser/Spherinator-main-gaia/runs/kfmzdw39</a>"
      ],
      "text/plain": [
       "<IPython.core.display.HTML object>"
      ]
     },
     "metadata": {},
     "output_type": "display_data"
    },
    {
     "name": "stderr",
     "output_type": "stream",
     "text": [
      "\u001b[34m\u001b[1mwandb\u001b[0m:   1 of 1 files downloaded.  \n"
     ]
    }
   ],
   "source": [
    "import wandb\n",
    "run = wandb.init()\n",
    "artifact = run.use_artifact('ain-space/gaia/model-tzmvobqh:v0', type='model')\n",
    "artifact_dir = artifact.download()"
   ]
  },
  {
   "cell_type": "code",
   "execution_count": 7,
   "metadata": {},
   "outputs": [
    {
     "name": "stderr",
     "output_type": "stream",
     "text": [
      "/home/doserbd/git/Spherinator-main/.venv/lib/python3.9/site-packages/lightning/pytorch/utilities/parsing.py:208: Attribute 'encoder' is an instance of `nn.Module` and is already saved during checkpointing. It is recommended to ignore them using `self.save_hyperparameters(ignore=['encoder'])`.\n",
      "/home/doserbd/git/Spherinator-main/.venv/lib/python3.9/site-packages/lightning/pytorch/utilities/parsing.py:208: Attribute 'decoder' is an instance of `nn.Module` and is already saved during checkpointing. It is recommended to ignore them using `self.save_hyperparameters(ignore=['decoder'])`.\n",
      "/home/doserbd/git/Spherinator-main/.venv/lib/python3.9/site-packages/torch/onnx/_internal/_exporter_legacy.py:116: UserWarning: torch.onnx.dynamo_export only implements opset version 18 for now. If you need to use a different opset version, please register them with register_custom_op.\n",
      "  warnings.warn(\n",
      "/home/doserbd/git/Spherinator-main/.venv/lib/python3.9/site-packages/torch/onnx/_internal/fx/passes/readability.py:52: UserWarning: Attempted to insert a get_attr Node with no underlying reference in the owning GraphModule! Call GraphModule.add_submodule to add the necessary submodule, GraphModule.add_parameter to add the necessary Parameter, or nn.Module.register_buffer to add the necessary buffer\n",
      "  new_node = self.module.graph.get_attr(normalized_name)\n",
      "/home/doserbd/git/Spherinator-main/.venv/lib/python3.9/site-packages/torch/fx/graph.py:1586: UserWarning: Node enc1_1_running_mean target enc1/1/running_mean enc1/1/running_mean of  does not reference an nn.Module, nn.Parameter, or buffer, which is what 'get_attr' Nodes typically target\n",
      "  warnings.warn(f'Node {node} target {node.target} {atom} of {seen_qualname} does '\n",
      "/home/doserbd/git/Spherinator-main/.venv/lib/python3.9/site-packages/torch/fx/graph.py:1586: UserWarning: Node enc1_1_running_var target enc1/1/running_var enc1/1/running_var of  does not reference an nn.Module, nn.Parameter, or buffer, which is what 'get_attr' Nodes typically target\n",
      "  warnings.warn(f'Node {node} target {node.target} {atom} of {seen_qualname} does '\n",
      "/home/doserbd/git/Spherinator-main/.venv/lib/python3.9/site-packages/torch/fx/graph.py:1586: UserWarning: Node enc2_1_running_mean target enc2/1/running_mean enc2/1/running_mean of  does not reference an nn.Module, nn.Parameter, or buffer, which is what 'get_attr' Nodes typically target\n",
      "  warnings.warn(f'Node {node} target {node.target} {atom} of {seen_qualname} does '\n",
      "/home/doserbd/git/Spherinator-main/.venv/lib/python3.9/site-packages/torch/fx/graph.py:1586: UserWarning: Node enc2_1_running_var target enc2/1/running_var enc2/1/running_var of  does not reference an nn.Module, nn.Parameter, or buffer, which is what 'get_attr' Nodes typically target\n",
      "  warnings.warn(f'Node {node} target {node.target} {atom} of {seen_qualname} does '\n",
      "/home/doserbd/git/Spherinator-main/.venv/lib/python3.9/site-packages/torch/onnx/_internal/_exporter_legacy.py:116: UserWarning: torch.onnx.dynamo_export only implements opset version 18 for now. If you need to use a different opset version, please register them with register_custom_op.\n",
      "  warnings.warn(\n",
      "/home/doserbd/git/Spherinator-main/.venv/lib/python3.9/site-packages/torch/onnx/_internal/fx/passes/readability.py:52: UserWarning: Attempted to insert a get_attr Node with no underlying reference in the owning GraphModule! Call GraphModule.add_submodule to add the necessary submodule, GraphModule.add_parameter to add the necessary Parameter, or nn.Module.register_buffer to add the necessary buffer\n",
      "  new_node = self.module.graph.get_attr(normalized_name)\n",
      "/home/doserbd/git/Spherinator-main/.venv/lib/python3.9/site-packages/torch/fx/graph.py:1586: UserWarning: Node dec1_2_running_mean target dec1/2/running_mean dec1/2/running_mean of  does not reference an nn.Module, nn.Parameter, or buffer, which is what 'get_attr' Nodes typically target\n",
      "  warnings.warn(f'Node {node} target {node.target} {atom} of {seen_qualname} does '\n",
      "/home/doserbd/git/Spherinator-main/.venv/lib/python3.9/site-packages/torch/fx/graph.py:1586: UserWarning: Node dec1_2_running_var target dec1/2/running_var dec1/2/running_var of  does not reference an nn.Module, nn.Parameter, or buffer, which is what 'get_attr' Nodes typically target\n",
      "  warnings.warn(f'Node {node} target {node.target} {atom} of {seen_qualname} does '\n",
      "/home/doserbd/git/Spherinator-main/.venv/lib/python3.9/site-packages/torch/fx/graph.py:1586: UserWarning: Node dec2_1_running_mean target dec2/1/running_mean dec2/1/running_mean of  does not reference an nn.Module, nn.Parameter, or buffer, which is what 'get_attr' Nodes typically target\n",
      "  warnings.warn(f'Node {node} target {node.target} {atom} of {seen_qualname} does '\n",
      "/home/doserbd/git/Spherinator-main/.venv/lib/python3.9/site-packages/torch/fx/graph.py:1586: UserWarning: Node dec2_1_running_var target dec2/1/running_var dec2/1/running_var of  does not reference an nn.Module, nn.Parameter, or buffer, which is what 'get_attr' Nodes typically target\n",
      "  warnings.warn(f'Node {node} target {node.target} {atom} of {seen_qualname} does '\n",
      "/home/doserbd/git/Spherinator-main/.venv/lib/python3.9/site-packages/torch/fx/graph.py:1586: UserWarning: Node dec3_1_running_mean target dec3/1/running_mean dec3/1/running_mean of  does not reference an nn.Module, nn.Parameter, or buffer, which is what 'get_attr' Nodes typically target\n",
      "  warnings.warn(f'Node {node} target {node.target} {atom} of {seen_qualname} does '\n",
      "/home/doserbd/git/Spherinator-main/.venv/lib/python3.9/site-packages/torch/fx/graph.py:1593: UserWarning: Additional 1 warnings suppressed about get_attr references\n",
      "  warnings.warn(\n"
     ]
    }
   ],
   "source": [
    "import torch\n",
    "from spherinator.models import (\n",
    "    ConvolutionalDecoder1D,\n",
    "    ConvolutionalEncoder1D,\n",
    "    AutoencoderPure,\n",
    ")\n",
    "\n",
    "encoder = ConvolutionalEncoder1D(input_dim=344, output_dim=3)\n",
    "decoder = ConvolutionalDecoder1D(input_dim=3, output_dim=344)\n",
    "model = AutoencoderPure(encoder=encoder, decoder=decoder)\n",
    "model\n",
    "\n",
    "ckpt = \"/home/doserbd/git/Spherinator-main/gaia/artifacts/model-tzmvobqh:v0/model.ckpt\"\n",
    "checkpoint = torch.load(ckpt, weights_only=True, map_location=\"cpu\")\n",
    "# checkpoint[\"state_dict\"]\n",
    "\n",
    "model.load_state_dict(checkpoint[\"state_dict\"])\n",
    "model.eval()\n",
    "# onnx = torch.onnx.dynamo_export(model, model.example_input_array)\n",
    "# onnx.save(\"model.onnx\")\n",
    "\n",
    "# encoder.load_state_dict(checkpoint[\"state_dict\"][\"encoder\"])\n",
    "# encoder.eval()\n",
    "\n",
    "export_options = torch.onnx.ExportOptions(dynamic_shapes=True)\n",
    "onnx = torch.onnx.dynamo_export(model.encoder, model.example_input_array, export_options=export_options)\n",
    "onnx.save(\"encoder.onnx\")\n",
    "onnx = torch.onnx.dynamo_export(model.decoder, torch.randn(2, 3, device=\"cpu\"), export_options=export_options)\n",
    "onnx.save(\"decoder.onnx\")"
   ]
  }
 ],
 "metadata": {
  "kernelspec": {
   "display_name": ".venv",
   "language": "python",
   "name": "python3"
  },
  "language_info": {
   "codemirror_mode": {
    "name": "ipython",
    "version": 3
   },
   "file_extension": ".py",
   "mimetype": "text/x-python",
   "name": "python",
   "nbconvert_exporter": "python",
   "pygments_lexer": "ipython3",
   "version": "3.9.21"
  }
 },
 "nbformat": 4,
 "nbformat_minor": 2
}
