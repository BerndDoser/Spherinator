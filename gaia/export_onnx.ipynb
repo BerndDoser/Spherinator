{
 "cells": [
  {
   "cell_type": "code",
   "execution_count": 1,
   "metadata": {},
   "outputs": [
    {
     "name": "stderr",
     "output_type": "stream",
     "text": [
      "\u001b[34m\u001b[1mwandb\u001b[0m: Using wandb-core as the SDK backend.  Please refer to https://wandb.me/wandb-core for more information.\n",
      "\u001b[34m\u001b[1mwandb\u001b[0m: Currently logged in as: \u001b[33mbernddoser\u001b[0m. Use \u001b[1m`wandb login --relogin`\u001b[0m to force relogin\n"
     ]
    },
    {
     "data": {
      "text/html": [
       "Tracking run with wandb version 0.18.7"
      ],
      "text/plain": [
       "<IPython.core.display.HTML object>"
      ]
     },
     "metadata": {},
     "output_type": "display_data"
    },
    {
     "data": {
      "text/html": [
       "Run data is saved locally in <code>/home/doserbd/git/Spherinator-main/gaia/wandb/run-20241218_113558-ocydkbph</code>"
      ],
      "text/plain": [
       "<IPython.core.display.HTML object>"
      ]
     },
     "metadata": {},
     "output_type": "display_data"
    },
    {
     "data": {
      "text/html": [
       "Syncing run <strong><a href='https://wandb.ai/bernddoser/Spherinator-main-gaia/runs/ocydkbph' target=\"_blank\">dutiful-sponge-6</a></strong> to <a href='https://wandb.ai/bernddoser/Spherinator-main-gaia' target=\"_blank\">Weights & Biases</a> (<a href='https://wandb.me/developer-guide' target=\"_blank\">docs</a>)<br/>"
      ],
      "text/plain": [
       "<IPython.core.display.HTML object>"
      ]
     },
     "metadata": {},
     "output_type": "display_data"
    },
    {
     "data": {
      "text/html": [
       " View project at <a href='https://wandb.ai/bernddoser/Spherinator-main-gaia' target=\"_blank\">https://wandb.ai/bernddoser/Spherinator-main-gaia</a>"
      ],
      "text/plain": [
       "<IPython.core.display.HTML object>"
      ]
     },
     "metadata": {},
     "output_type": "display_data"
    },
    {
     "data": {
      "text/html": [
       " View run at <a href='https://wandb.ai/bernddoser/Spherinator-main-gaia/runs/ocydkbph' target=\"_blank\">https://wandb.ai/bernddoser/Spherinator-main-gaia/runs/ocydkbph</a>"
      ],
      "text/plain": [
       "<IPython.core.display.HTML object>"
      ]
     },
     "metadata": {},
     "output_type": "display_data"
    },
    {
     "name": "stderr",
     "output_type": "stream",
     "text": [
      "\u001b[34m\u001b[1mwandb\u001b[0m:   1 of 1 files downloaded.  \n"
     ]
    }
   ],
   "source": [
    "import wandb\n",
    "run = wandb.init()\n",
    "artifact = run.use_artifact('ain-space/gaia/model-g8j8dna6:v0', type='model')\n",
    "artifact_dir = artifact.download()"
   ]
  },
  {
   "cell_type": "code",
   "execution_count": 1,
   "metadata": {},
   "outputs": [
    {
     "ename": "TypeError",
     "evalue": "__init__() got an unexpected keyword argument 'h_dim'",
     "output_type": "error",
     "traceback": [
      "\u001b[0;31m---------------------------------------------------------------------------\u001b[0m",
      "\u001b[0;31mTypeError\u001b[0m                                 Traceback (most recent call last)",
      "Cell \u001b[0;32mIn[1], line 10\u001b[0m\n\u001b[1;32m      8\u001b[0m encoder \u001b[38;5;241m=\u001b[39m ConvolutionalEncoder1D(input_dim\u001b[38;5;241m=\u001b[39m\u001b[38;5;241m344\u001b[39m, output_dim\u001b[38;5;241m=\u001b[39m\u001b[38;5;241m256\u001b[39m)\n\u001b[1;32m      9\u001b[0m decoder \u001b[38;5;241m=\u001b[39m ConvolutionalDecoder1D(input_dim\u001b[38;5;241m=\u001b[39m\u001b[38;5;241m256\u001b[39m, output_dim\u001b[38;5;241m=\u001b[39m\u001b[38;5;241m344\u001b[39m)\n\u001b[0;32m---> 10\u001b[0m model \u001b[38;5;241m=\u001b[39m \u001b[43mAutoencoder\u001b[49m\u001b[43m(\u001b[49m\u001b[43mencoder\u001b[49m\u001b[38;5;241;43m=\u001b[39;49m\u001b[43mencoder\u001b[49m\u001b[43m,\u001b[49m\u001b[43m \u001b[49m\u001b[43mdecoder\u001b[49m\u001b[38;5;241;43m=\u001b[39;49m\u001b[43mdecoder\u001b[49m\u001b[43m,\u001b[49m\u001b[43m \u001b[49m\u001b[43mh_dim\u001b[49m\u001b[38;5;241;43m=\u001b[39;49m\u001b[38;5;241;43m256\u001b[39;49m\u001b[43m,\u001b[49m\u001b[43m \u001b[49m\u001b[43mz_dim\u001b[49m\u001b[38;5;241;43m=\u001b[39;49m\u001b[38;5;241;43m10\u001b[39;49m\u001b[43m)\u001b[49m\n\u001b[1;32m     11\u001b[0m model\n\u001b[1;32m     13\u001b[0m ckpt \u001b[38;5;241m=\u001b[39m \u001b[38;5;124m\"\u001b[39m\u001b[38;5;124m/home/doserbd/git/Spherinator-main/gaia/artifacts/model-g8j8dna6:v0/model.ckpt\u001b[39m\u001b[38;5;124m\"\u001b[39m\n",
      "\u001b[0;31mTypeError\u001b[0m: __init__() got an unexpected keyword argument 'h_dim'"
     ]
    }
   ],
   "source": [
    "import torch\n",
    "from spherinator.models import (\n",
    "    ConvolutionalDecoder1D,\n",
    "    ConvolutionalEncoder1D,\n",
    "    Autoencoder,\n",
    ")\n",
    "\n",
    "encoder = ConvolutionalEncoder1D(input_dim=344, output_dim=256)\n",
    "decoder = ConvolutionalDecoder1D(input_dim=256, output_dim=344)\n",
    "model = Autoencoder(encoder=encoder, decoder=decoder, h_dim=256, z_dim=10)\n",
    "model\n",
    "\n",
    "ckpt = \"/home/doserbd/git/Spherinator-main/gaia/artifacts/model-g8j8dna6:v0/model.ckpt\"\n",
    "# checkpoint = torch.load(ckpt, weights_only=True, map_location=\"cpu\")\n",
    "checkpoint = torch.load(ckpt, weights_only=True)\n",
    "# checkpoint[\"state_dict\"]\n",
    "\n",
    "model.load_state_dict(checkpoint[\"state_dict\"])\n",
    "model.eval()\n",
    "# onnx = torch.onnx.dynamo_export(model, model.example_input_array)\n",
    "# onnx.save(\"model.onnx\")\n",
    "\n",
    "# encoder.load_state_dict(checkpoint[\"state_dict\"][\"encoder\"])\n",
    "# encoder.eval()\n",
    "\n",
    "export_options = torch.onnx.ExportOptions(dynamic_shapes=True)\n",
    "onnx = torch.onnx.dynamo_export(model.encoder, model.example_input_array, export_options=export_options)\n",
    "onnx.save(\"encoder.onnx\")\n",
    "# onnx = torch.onnx.dynamo_export(model.decoder, torch.randn(2, 256))\n",
    "# onnx.save(\"decoder.onnx\")"
   ]
  }
 ],
 "metadata": {
  "kernelspec": {
   "display_name": ".venv",
   "language": "python",
   "name": "python3"
  },
  "language_info": {
   "codemirror_mode": {
    "name": "ipython",
    "version": 3
   },
   "file_extension": ".py",
   "mimetype": "text/x-python",
   "name": "python",
   "nbconvert_exporter": "python",
   "pygments_lexer": "ipython3",
   "version": "3.9.21"
  }
 },
 "nbformat": 4,
 "nbformat_minor": 2
}
