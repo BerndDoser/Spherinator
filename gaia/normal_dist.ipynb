{
 "cells": [
  {
   "cell_type": "code",
   "execution_count": null,
   "metadata": {},
   "outputs": [
    {
     "data": {
      "text/plain": [
       "tensor([[-0.9189, -0.8136],\n",
       "        [-0.6958, -0.5623]])"
      ]
     },
     "execution_count": 14,
     "metadata": {},
     "output_type": "execute_result"
    }
   ],
   "source": [
    "import torch\n",
    "\n",
    "mu = torch.tensor([[0.0, 0.1], [0.2, 0.3]])\n",
    "sigma = torch.tensor([[1.0, 0.9], [0.8, 0.7]])\n",
    "dist = torch.distributions.normal.Normal(mu, sigma)\n",
    "\n",
    "dist.log_prob(torch.tensor([[0.0, 0.1], [0.2, 0.3]]))"
   ]
  }
 ],
 "metadata": {
  "kernelspec": {
   "display_name": ".venv",
   "language": "python",
   "name": "python3"
  },
  "language_info": {
   "codemirror_mode": {
    "name": "ipython",
    "version": 3
   },
   "file_extension": ".py",
   "mimetype": "text/x-python",
   "name": "python",
   "nbconvert_exporter": "python",
   "pygments_lexer": "ipython3",
   "version": "3.12.3"
  }
 },
 "nbformat": 4,
 "nbformat_minor": 2
}
