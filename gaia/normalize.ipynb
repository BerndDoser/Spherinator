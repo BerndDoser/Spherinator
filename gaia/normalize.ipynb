{
 "cells": [
  {
   "cell_type": "code",
   "execution_count": 26,
   "metadata": {},
   "outputs": [
    {
     "name": "stdout",
     "output_type": "stream",
     "text": [
      "                                                                           00:00, 14691.61spec/s]\r"
     ]
    }
   ],
   "source": [
    "import pandas as pd\n",
    "import pyarrow as pa\n",
    "import pyarrow.parquet as pq\n",
    "import numpy as np\n",
    "from gaiaxpy import convert\n",
    "\n",
    "mean_spectrum_file = \"/local_data/doserbd/data/gaia/XpContinuousMeanSpectrum_000000-003111.csv\"\n",
    "\n",
    "converted_data, sampling = convert(mean_spectrum_file, sampling=np.linspace(0.0, 60.0, 40), save_file=False)"
   ]
  },
  {
   "cell_type": "code",
   "execution_count": 27,
   "metadata": {},
   "outputs": [
    {
     "data": {
      "text/plain": [
       "array([-1.35533480e-01,  4.94138863e-01,  4.62409397e-01,  3.56356549e-01,\n",
       "        6.10465021e-01,  7.56559002e-01,  2.11180000e+00,  2.49773048e+00,\n",
       "        6.23104416e+00,  2.83724118e+01,  6.20772337e+01,  6.46691834e+01,\n",
       "        5.68297098e+01,  4.91981783e+01,  4.41305156e+01,  3.77750373e+01,\n",
       "        3.28013895e+01,  2.94232431e+01,  2.52742590e+01,  1.91542404e+01,\n",
       "        1.55385978e+01,  1.17917382e+01,  9.19901610e+00,  6.60302283e+00,\n",
       "        3.60113218e+00,  2.48861291e+00,  2.71290623e+00,  2.67777518e+00,\n",
       "        2.11106483e+00,  5.27164416e-01,  1.04840609e+00,  2.71254144e-01,\n",
       "        3.48374906e-01,  4.69801386e-03,  7.46440915e-01,  4.66830737e-01,\n",
       "        1.31787804e-01,  2.44355959e-03,  3.19488443e-01,  1.66194277e-01])"
      ]
     },
     "execution_count": 27,
     "metadata": {},
     "output_type": "execute_result"
    }
   ],
   "source": [
    "converted_data.loc[0, 'flux']"
   ]
  },
  {
   "cell_type": "code",
   "execution_count": 28,
   "metadata": {},
   "outputs": [
    {
     "data": {
      "text/plain": [
       "((40,), 523.8473212623743)"
      ]
     },
     "execution_count": 28,
     "metadata": {},
     "output_type": "execute_result"
    }
   ],
   "source": [
    "array = converted_data.loc[0, 'flux']\n",
    "array.shape, np.sum(array)"
   ]
  },
  {
   "cell_type": "code",
   "execution_count": 29,
   "metadata": {},
   "outputs": [
    {
     "data": {
      "text/plain": [
       "0.9999999999999998"
      ]
     },
     "execution_count": 29,
     "metadata": {},
     "output_type": "execute_result"
    }
   ],
   "source": [
    "sum = np.sum(array)\n",
    "array /= sum\n",
    "np.sum(array)"
   ]
  },
  {
   "cell_type": "code",
   "execution_count": 30,
   "metadata": {},
   "outputs": [
    {
     "data": {
      "text/plain": [
       "array([-2.58727065e-04,  9.43287945e-04,  8.82717880e-04,  6.80267962e-04,\n",
       "        1.16534913e-03,  1.44423570e-03,  4.03132728e-03,  4.76805050e-03,\n",
       "        1.18947715e-02,  5.41616052e-02,  1.18502531e-01,  1.23450442e-01,\n",
       "        1.08485254e-01,  9.39170180e-02,  8.42430872e-02,  7.21107768e-02,\n",
       "        6.26163161e-02,  5.61675929e-02,  4.82473765e-02,  3.65645478e-02,\n",
       "        2.96624553e-02,  2.25098760e-02,  1.75604909e-02,  1.26048613e-02,\n",
       "        6.87439265e-03,  4.75064549e-03,  5.17881093e-03,  5.11174740e-03,\n",
       "        4.02992389e-03,  1.00633218e-03,  2.00135811e-03,  5.17811456e-04,\n",
       "        6.65031379e-04,  8.96828840e-06,  1.42492074e-03,  8.91158012e-04,\n",
       "        2.51576745e-04,  4.66464080e-06,  6.09888474e-04,  3.17257090e-04])"
      ]
     },
     "execution_count": 30,
     "metadata": {},
     "output_type": "execute_result"
    }
   ],
   "source": [
    "converted_data.loc[0, 'flux']"
   ]
  },
  {
   "cell_type": "code",
   "execution_count": 2,
   "metadata": {},
   "outputs": [
    {
     "ename": "NameError",
     "evalue": "name 'converted_data' is not defined",
     "output_type": "error",
     "traceback": [
      "\u001b[0;31m---------------------------------------------------------------------------\u001b[0m",
      "\u001b[0;31mNameError\u001b[0m                                 Traceback (most recent call last)",
      "Cell \u001b[0;32mIn[2], line 3\u001b[0m\n\u001b[1;32m      1\u001b[0m \u001b[38;5;28;01mfrom\u001b[39;00m \u001b[38;5;21;01mgaiaxpy\u001b[39;00m \u001b[38;5;28;01mimport\u001b[39;00m plot_spectra\n\u001b[0;32m----> 3\u001b[0m plot_spectra(\u001b[43mconverted_data\u001b[49m[\u001b[38;5;241m0\u001b[39m:\u001b[38;5;241m10\u001b[39m], multi\u001b[38;5;241m=\u001b[39m\u001b[38;5;28;01mFalse\u001b[39;00m, show_plot\u001b[38;5;241m=\u001b[39m\u001b[38;5;28;01mTrue\u001b[39;00m)\n",
      "\u001b[0;31mNameError\u001b[0m: name 'converted_data' is not defined"
     ]
    }
   ],
   "source": [
    "from gaiaxpy import plot_spectra\n",
    "\n",
    "plot_spectra(converted_data[0:10], multi=False, show_plot=True)"
   ]
  }
 ],
 "metadata": {
  "kernelspec": {
   "display_name": "spherinator-tzU8h4HZ-py3.10",
   "language": "python",
   "name": "python3"
  },
  "language_info": {
   "codemirror_mode": {
    "name": "ipython",
    "version": 3
   },
   "file_extension": ".py",
   "mimetype": "text/x-python",
   "name": "python",
   "nbconvert_exporter": "python",
   "pygments_lexer": "ipython3",
   "version": "3.10.12"
  }
 },
 "nbformat": 4,
 "nbformat_minor": 2
}
