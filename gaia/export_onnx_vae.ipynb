{
 "cells": [
  {
   "cell_type": "code",
   "execution_count": 1,
   "metadata": {},
   "outputs": [
    {
     "name": "stderr",
     "output_type": "stream",
     "text": [
      "\u001b[34m\u001b[1mwandb\u001b[0m: Using wandb-core as the SDK backend.  Please refer to https://wandb.me/wandb-core for more information.\n",
      "\u001b[34m\u001b[1mwandb\u001b[0m: Currently logged in as: \u001b[33mbernddoser\u001b[0m. Use \u001b[1m`wandb login --relogin`\u001b[0m to force relogin\n"
     ]
    },
    {
     "data": {
      "text/html": [
       "Tracking run with wandb version 0.19.1"
      ],
      "text/plain": [
       "<IPython.core.display.HTML object>"
      ]
     },
     "metadata": {},
     "output_type": "display_data"
    },
    {
     "data": {
      "text/html": [
       "Run data is saved locally in <code>/local_data/doserbd/git/Spherinator/gaia/wandb/run-20241223_215812-wnnrnp9g</code>"
      ],
      "text/plain": [
       "<IPython.core.display.HTML object>"
      ]
     },
     "metadata": {},
     "output_type": "display_data"
    },
    {
     "data": {
      "text/html": [
       "Syncing run <strong><a href='https://wandb.ai/bernddoser/Spherinator-gaia/runs/wnnrnp9g' target=\"_blank\">fearless-sun-13</a></strong> to <a href='https://wandb.ai/bernddoser/Spherinator-gaia' target=\"_blank\">Weights & Biases</a> (<a href='https://wandb.me/developer-guide' target=\"_blank\">docs</a>)<br>"
      ],
      "text/plain": [
       "<IPython.core.display.HTML object>"
      ]
     },
     "metadata": {},
     "output_type": "display_data"
    },
    {
     "data": {
      "text/html": [
       " View project at <a href='https://wandb.ai/bernddoser/Spherinator-gaia' target=\"_blank\">https://wandb.ai/bernddoser/Spherinator-gaia</a>"
      ],
      "text/plain": [
       "<IPython.core.display.HTML object>"
      ]
     },
     "metadata": {},
     "output_type": "display_data"
    },
    {
     "data": {
      "text/html": [
       " View run at <a href='https://wandb.ai/bernddoser/Spherinator-gaia/runs/wnnrnp9g' target=\"_blank\">https://wandb.ai/bernddoser/Spherinator-gaia/runs/wnnrnp9g</a>"
      ],
      "text/plain": [
       "<IPython.core.display.HTML object>"
      ]
     },
     "metadata": {},
     "output_type": "display_data"
    },
    {
     "name": "stderr",
     "output_type": "stream",
     "text": [
      "\u001b[34m\u001b[1mwandb\u001b[0m:   1 of 1 files downloaded.  \n"
     ]
    }
   ],
   "source": [
    "import wandb\n",
    "run = wandb.init()\n",
    "artifact = run.use_artifact('ain-space/gaia/model-a2gm8521:v0', type='model')\n",
    "artifact_dir = artifact.download()"
   ]
  },
  {
   "cell_type": "code",
   "execution_count": 3,
   "metadata": {},
   "outputs": [
    {
     "name": "stderr",
     "output_type": "stream",
     "text": [
      "/local_data/doserbd/git/Spherinator/.venv/lib/python3.10/site-packages/onnxscript/converter.py:820: FutureWarning: 'onnxscript.values.Op.param_schemas' is deprecated in version 0.1 and will be removed in the future. Please use '.op_signature' instead.\n",
      "  param_schemas = callee.param_schemas()\n",
      "/local_data/doserbd/git/Spherinator/.venv/lib/python3.10/site-packages/onnxscript/converter.py:820: FutureWarning: 'onnxscript.values.OnnxFunction.param_schemas' is deprecated in version 0.1 and will be removed in the future. Please use '.op_signature' instead.\n",
      "  param_schemas = callee.param_schemas()\n",
      "/local_data/doserbd/git/Spherinator/.venv/lib/python3.10/site-packages/torch/onnx/_internal/_exporter_legacy.py:116: UserWarning: torch.onnx.dynamo_export only implements opset version 18 for now. If you need to use a different opset version, please register them with register_custom_op.\n",
      "  warnings.warn(\n",
      "/local_data/doserbd/git/Spherinator/.venv/lib/python3.10/site-packages/torch/onnx/_internal/fx/passes/readability.py:52: UserWarning: Attempted to insert a get_attr Node with no underlying reference in the owning GraphModule! Call GraphModule.add_submodule to add the necessary submodule, GraphModule.add_parameter to add the necessary Parameter, or nn.Module.register_buffer to add the necessary buffer\n",
      "  new_node = self.module.graph.get_attr(normalized_name)\n",
      "/local_data/doserbd/git/Spherinator/.venv/lib/python3.10/site-packages/torch/fx/graph.py:1586: UserWarning: Node encoder_enc1_1_running_mean target encoder/enc1/1/running_mean encoder/enc1/1/running_mean of  does not reference an nn.Module, nn.Parameter, or buffer, which is what 'get_attr' Nodes typically target\n",
      "  warnings.warn(f'Node {node} target {node.target} {atom} of {seen_qualname} does '\n",
      "/local_data/doserbd/git/Spherinator/.venv/lib/python3.10/site-packages/torch/fx/graph.py:1586: UserWarning: Node encoder_enc1_1_running_var target encoder/enc1/1/running_var encoder/enc1/1/running_var of  does not reference an nn.Module, nn.Parameter, or buffer, which is what 'get_attr' Nodes typically target\n",
      "  warnings.warn(f'Node {node} target {node.target} {atom} of {seen_qualname} does '\n",
      "/local_data/doserbd/git/Spherinator/.venv/lib/python3.10/site-packages/torch/fx/graph.py:1586: UserWarning: Node encoder_enc2_1_running_mean target encoder/enc2/1/running_mean encoder/enc2/1/running_mean of  does not reference an nn.Module, nn.Parameter, or buffer, which is what 'get_attr' Nodes typically target\n",
      "  warnings.warn(f'Node {node} target {node.target} {atom} of {seen_qualname} does '\n",
      "/local_data/doserbd/git/Spherinator/.venv/lib/python3.10/site-packages/torch/fx/graph.py:1586: UserWarning: Node encoder_enc2_1_running_var target encoder/enc2/1/running_var encoder/enc2/1/running_var of  does not reference an nn.Module, nn.Parameter, or buffer, which is what 'get_attr' Nodes typically target\n",
      "  warnings.warn(f'Node {node} target {node.target} {atom} of {seen_qualname} does '\n",
      "/local_data/doserbd/git/Spherinator/.venv/lib/python3.10/site-packages/torch/onnx/_internal/fx/onnxfunction_dispatcher.py:503: FutureWarning: 'onnxscript.values.TracedOnnxFunction.param_schemas' is deprecated in version 0.1 and will be removed in the future. Please use '.op_signature' instead.\n",
      "  self.param_schema = self.onnxfunction.param_schemas()\n",
      "/local_data/doserbd/git/Spherinator/.venv/lib/python3.10/site-packages/torch/onnx/_internal/_exporter_legacy.py:116: UserWarning: torch.onnx.dynamo_export only implements opset version 18 for now. If you need to use a different opset version, please register them with register_custom_op.\n",
      "  warnings.warn(\n",
      "/local_data/doserbd/git/Spherinator/.venv/lib/python3.10/site-packages/torch/onnx/_internal/fx/passes/readability.py:52: UserWarning: Attempted to insert a get_attr Node with no underlying reference in the owning GraphModule! Call GraphModule.add_submodule to add the necessary submodule, GraphModule.add_parameter to add the necessary Parameter, or nn.Module.register_buffer to add the necessary buffer\n",
      "  new_node = self.module.graph.get_attr(normalized_name)\n",
      "/local_data/doserbd/git/Spherinator/.venv/lib/python3.10/site-packages/torch/fx/graph.py:1586: UserWarning: Node dec1_2_running_mean target dec1/2/running_mean dec1/2/running_mean of  does not reference an nn.Module, nn.Parameter, or buffer, which is what 'get_attr' Nodes typically target\n",
      "  warnings.warn(f'Node {node} target {node.target} {atom} of {seen_qualname} does '\n",
      "/local_data/doserbd/git/Spherinator/.venv/lib/python3.10/site-packages/torch/fx/graph.py:1586: UserWarning: Node dec1_2_running_var target dec1/2/running_var dec1/2/running_var of  does not reference an nn.Module, nn.Parameter, or buffer, which is what 'get_attr' Nodes typically target\n",
      "  warnings.warn(f'Node {node} target {node.target} {atom} of {seen_qualname} does '\n",
      "/local_data/doserbd/git/Spherinator/.venv/lib/python3.10/site-packages/torch/fx/graph.py:1586: UserWarning: Node dec2_1_running_mean target dec2/1/running_mean dec2/1/running_mean of  does not reference an nn.Module, nn.Parameter, or buffer, which is what 'get_attr' Nodes typically target\n",
      "  warnings.warn(f'Node {node} target {node.target} {atom} of {seen_qualname} does '\n",
      "/local_data/doserbd/git/Spherinator/.venv/lib/python3.10/site-packages/torch/fx/graph.py:1586: UserWarning: Node dec2_1_running_var target dec2/1/running_var dec2/1/running_var of  does not reference an nn.Module, nn.Parameter, or buffer, which is what 'get_attr' Nodes typically target\n",
      "  warnings.warn(f'Node {node} target {node.target} {atom} of {seen_qualname} does '\n",
      "/local_data/doserbd/git/Spherinator/.venv/lib/python3.10/site-packages/torch/fx/graph.py:1586: UserWarning: Node dec3_1_running_mean target dec3/1/running_mean dec3/1/running_mean of  does not reference an nn.Module, nn.Parameter, or buffer, which is what 'get_attr' Nodes typically target\n",
      "  warnings.warn(f'Node {node} target {node.target} {atom} of {seen_qualname} does '\n",
      "/local_data/doserbd/git/Spherinator/.venv/lib/python3.10/site-packages/torch/fx/graph.py:1593: UserWarning: Additional 1 warnings suppressed about get_attr references\n",
      "  warnings.warn(\n"
     ]
    }
   ],
   "source": [
    "import torch\n",
    "from spherinator.models import (\n",
    "    ConvolutionalDecoder1D,\n",
    "    ConvolutionalEncoder1D,\n",
    "    VariationalAutoencoderPure,\n",
    ")\n",
    "\n",
    "encoder = ConvolutionalEncoder1D(input_dim=344, output_dim=3)\n",
    "decoder = ConvolutionalDecoder1D(input_dim=3, output_dim=344)\n",
    "model = VariationalAutoencoderPure(encoder=encoder, decoder=decoder)\n",
    "\n",
    "ckpt = \"artifacts/model-a2gm8521:v0/model.ckpt\"\n",
    "checkpoint = torch.load(ckpt, weights_only=True, map_location=\"cpu\")\n",
    "model.load_state_dict(checkpoint[\"state_dict\"])\n",
    "model.eval()\n",
    "\n",
    "export_options = torch.onnx.ExportOptions(dynamic_shapes=True)\n",
    "onnx = torch.onnx.dynamo_export(model.variational_encoder, torch.randn(1, 1, 344, device=\"cpu\"), export_options=export_options)\n",
    "onnx.save(\"vae_encoder.onnx\")\n",
    "\n",
    "onnx = torch.onnx.dynamo_export(model.decoder, torch.randn(1, 3, device=\"cpu\"), export_options=export_options)\n",
    "onnx.save(\"vae_decoder.onnx\")"
   ]
  }
 ],
 "metadata": {
  "kernelspec": {
   "display_name": ".venv",
   "language": "python",
   "name": "python3"
  },
  "language_info": {
   "codemirror_mode": {
    "name": "ipython",
    "version": 3
   },
   "file_extension": ".py",
   "mimetype": "text/x-python",
   "name": "python",
   "nbconvert_exporter": "python",
   "pygments_lexer": "ipython3",
   "version": "3.10.12"
  }
 },
 "nbformat": 4,
 "nbformat_minor": 2
}
