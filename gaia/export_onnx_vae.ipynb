{
 "cells": [
  {
   "cell_type": "code",
   "execution_count": null,
   "metadata": {},
   "outputs": [],
   "source": [
    "import wandb\n",
    "\n",
    "run = wandb.init()\n",
    "artifact = run.use_artifact(\"ain-space-org/wandb-registry-model/gaia:v1\", type=\"model\")\n",
    "artifact_dir = artifact.download()\n",
    "artifact_dir"
   ]
  },
  {
   "cell_type": "code",
   "execution_count": null,
   "metadata": {},
   "outputs": [],
   "source": [
    "import torch\n",
    "from spherinator.models import (\n",
    "    ConvolutionalDecoder1D,\n",
    "    ConvolutionalEncoder1D,\n",
    "    VariationalAutoencoderPure,\n",
    ")\n",
    "\n",
    "encoder = ConvolutionalEncoder1D(input_dim=344, output_dim=3)\n",
    "decoder = ConvolutionalDecoder1D(input_dim=3, output_dim=344)\n",
    "model = VariationalAutoencoderPure(encoder=encoder, decoder=decoder)\n",
    "\n",
    "ckpt = artifact_dir + \"/model.ckpt\"\n",
    "checkpoint = torch.load(ckpt, weights_only=True, map_location=\"cpu\")\n",
    "checkpoint"
   ]
  },
  {
   "cell_type": "code",
   "execution_count": null,
   "metadata": {},
   "outputs": [],
   "source": [
    "model.load_state_dict(checkpoint[\"state_dict\"])\n",
    "model.eval()\n",
    "\n",
    "export_options = torch.onnx.ExportOptions(dynamic_shapes=True)\n",
    "onnx = torch.onnx.dynamo_export(\n",
    "    model.variational_encoder,\n",
    "    torch.randn(10, 1, 344, device=\"cpu\"),\n",
    "    export_options=export_options,\n",
    ")\n",
    "onnx.save(\"vae_encoder.onnx\")\n",
    "\n",
    "onnx = torch.onnx.dynamo_export(\n",
    "    model.decoder, torch.randn(10, 3, device=\"cpu\"), export_options=export_options\n",
    ")\n",
    "onnx.save(\"vae_decoder.onnx\")"
   ]
  }
 ],
 "metadata": {
  "kernelspec": {
   "display_name": "spherinator-zzYPp9oG-py3.12",
   "language": "python",
   "name": "python3"
  },
  "language_info": {
   "codemirror_mode": {
    "name": "ipython",
    "version": 3
   },
   "file_extension": ".py",
   "mimetype": "text/x-python",
   "name": "python",
   "nbconvert_exporter": "python",
   "pygments_lexer": "ipython3",
   "version": "3.12.3"
  }
 },
 "nbformat": 4,
 "nbformat_minor": 2
}
