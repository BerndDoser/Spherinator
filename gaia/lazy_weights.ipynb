{
 "cells": [
  {
   "cell_type": "code",
   "execution_count": 8,
   "metadata": {},
   "outputs": [
    {
     "name": "stdout",
     "output_type": "stream",
     "text": [
      "LazyLinear(in_features=0, out_features=2, bias=True)\n",
      "<UninitializedParameter>\n",
      "<UninitializedParameter>\n"
     ]
    }
   ],
   "source": [
    "import torch\n",
    "\n",
    "torch.manual_seed(42)\n",
    "\n",
    "a = torch.nn.LazyLinear(2)\n",
    "print(a)\n",
    "print(a.weight)\n",
    "print(a.bias)"
   ]
  },
  {
   "cell_type": "code",
   "execution_count": 9,
   "metadata": {},
   "outputs": [
    {
     "name": "stdout",
     "output_type": "stream",
     "text": [
      "Linear(in_features=1, out_features=2, bias=True)\n",
      "Parameter containing:\n",
      "tensor([[-0.2191],\n",
      "        [ 0.2018]], requires_grad=True)\n",
      "Parameter containing:\n",
      "tensor([-0.4869,  0.5873], requires_grad=True)\n"
     ]
    }
   ],
   "source": [
    "x = torch.randn(1, 1)\n",
    "y = a(x)\n",
    "print(a)\n",
    "print(a.weight)\n",
    "print(a.bias)"
   ]
  },
  {
   "cell_type": "code",
   "execution_count": 10,
   "metadata": {},
   "outputs": [
    {
     "name": "stdout",
     "output_type": "stream",
     "text": [
      "Linear(in_features=1, out_features=2, bias=True)\n",
      "Parameter containing:\n",
      "tensor([[0.],\n",
      "        [0.]])\n",
      "Parameter containing:\n",
      "tensor([1., 1.])\n"
     ]
    }
   ],
   "source": [
    "a.weight.data.zero_()\n",
    "a.weight.requires_grad = False\n",
    "a.bias.data.fill_(1.0)\n",
    "a.bias.requires_grad = False\n",
    "print(a)\n",
    "print(a.weight)\n",
    "print(a.bias)"
   ]
  }
 ],
 "metadata": {
  "kernelspec": {
   "display_name": ".venv",
   "language": "python",
   "name": "python3"
  },
  "language_info": {
   "codemirror_mode": {
    "name": "ipython",
    "version": 3
   },
   "file_extension": ".py",
   "mimetype": "text/x-python",
   "name": "python",
   "nbconvert_exporter": "python",
   "pygments_lexer": "ipython3",
   "version": "3.12.3"
  }
 },
 "nbformat": 4,
 "nbformat_minor": 2
}
