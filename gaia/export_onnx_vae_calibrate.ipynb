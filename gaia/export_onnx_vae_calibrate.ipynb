{
 "cells": [
  {
   "cell_type": "code",
   "execution_count": null,
   "metadata": {},
   "outputs": [],
   "source": [
    "import wandb\n",
    "\n",
    "run = wandb.init()\n",
    "artifact = run.use_artifact(\n",
    "    \"ain-space-org/wandb-registry-model/gaia calibrated:v0\", type=\"model\"\n",
    ")\n",
    "artifact_dir = artifact.download()\n",
    "artifact_dir"
   ]
  },
  {
   "cell_type": "code",
   "execution_count": null,
   "metadata": {},
   "outputs": [],
   "source": [
    "# import yaml\n",
    "# import importlib\n",
    "\n",
    "# config = yaml.load(open('model.yaml'), Loader=yaml.FullLoader)\n",
    "# model_class_path = config[\"model\"][\"class_path\"]\n",
    "# module_name, class_name = model_class_path.rsplit(\".\", 1)\n",
    "# module = importlib.import_module(module_name)\n",
    "# model_class = getattr(module, class_name)\n",
    "# model_init_args = config[\"model\"][\"init_args\"]\n",
    "# model = model_class(**model_init_args)"
   ]
  },
  {
   "cell_type": "code",
   "execution_count": null,
   "metadata": {},
   "outputs": [],
   "source": [
    "import torch\n",
    "from spherinator.models import (\n",
    "    ConsecutiveConv1DLayer,\n",
    "    ConvolutionalEncoder1DGen,\n",
    "    DenseModel,\n",
    "    VariationalAutoencoderPure,\n",
    ")\n",
    "\n",
    "cnn_layers = [\n",
    "    ConsecutiveConv1DLayer(\n",
    "        kernel_size=5,\n",
    "        num_layers=1,\n",
    "        base_channel_number=16,\n",
    "        pooling=torch.nn.MaxPool1d(2, ceil_mode=True),\n",
    "    ),\n",
    "    ConsecutiveConv1DLayer(\n",
    "        kernel_size=7,\n",
    "        num_layers=1,\n",
    "        base_channel_number=32,\n",
    "        pooling=torch.nn.MaxPool1d(2, ceil_mode=True),\n",
    "    ),\n",
    "    ConsecutiveConv1DLayer(\n",
    "        kernel_size=9,\n",
    "        num_layers=1,\n",
    "        base_channel_number=64,\n",
    "        pooling=torch.nn.MaxPool1d(2, ceil_mode=True),\n",
    "    ),\n",
    "]\n",
    "encoder = ConvolutionalEncoder1DGen(\n",
    "    input_dim=[1, 343], output_dim=3, cnn_layers=cnn_layers\n",
    ")\n",
    "decoder = DenseModel(layer_dims=[3, 16, 64, 256, 343], output_shape=[1, 343])\n",
    "model = VariationalAutoencoderPure(\n",
    "    encoder=encoder, decoder=decoder, z_dim=3, beta=1.0e-3\n",
    ")\n",
    "\n",
    "input = torch.randn(1, 1, 343)\n",
    "model(input)"
   ]
  },
  {
   "cell_type": "code",
   "execution_count": null,
   "metadata": {},
   "outputs": [],
   "source": [
    "import torch\n",
    "\n",
    "ckpt = artifact_dir + \"/model.ckpt\"\n",
    "checkpoint = torch.load(ckpt, weights_only=True, map_location=\"cpu\")\n",
    "checkpoint"
   ]
  },
  {
   "cell_type": "code",
   "execution_count": null,
   "metadata": {},
   "outputs": [],
   "source": [
    "model.load_state_dict(checkpoint[\"state_dict\"])\n",
    "model.eval()\n",
    "\n",
    "input = torch.randn(10, 1, 343)\n",
    "model(input)"
   ]
  },
  {
   "cell_type": "code",
   "execution_count": null,
   "metadata": {},
   "outputs": [],
   "source": [
    "import os\n",
    "\n",
    "os.makedirs(\"gaia-calibrated-v0\", exist_ok=True)\n",
    "\n",
    "export_options = torch.onnx.ExportOptions(dynamic_shapes=False)\n",
    "onnx = torch.onnx.dynamo_export(\n",
    "    model.variational_encoder,\n",
    "    torch.randn(256, 1, 343, device=\"cpu\"),\n",
    "    export_options=export_options,\n",
    ")\n",
    "onnx.save(\"gaia-calibrated-v0/encoder.onnx\")\n",
    "\n",
    "onnx = torch.onnx.dynamo_export(\n",
    "    model.decoder, torch.randn(256, 3, device=\"cpu\"), export_options=export_options\n",
    ")\n",
    "onnx.save(\"gaia-calibrated-v0/decoder.onnx\")"
   ]
  },
  {
   "cell_type": "code",
   "execution_count": null,
   "metadata": {},
   "outputs": [],
   "source": [
    "import onnxruntime as ort\n",
    "\n",
    "ort_session = ort.InferenceSession(\"gaia-calibrated-v0/encoder.onnx\")"
   ]
  },
  {
   "cell_type": "code",
   "execution_count": null,
   "metadata": {},
   "outputs": [],
   "source": [
    "#!rsync gaia-calibrated-v0 space:/var/www/html/space/models/"
   ]
  }
 ],
 "metadata": {
  "kernelspec": {
   "display_name": "spherinator-zzYPp9oG-py3.12",
   "language": "python",
   "name": "python3"
  },
  "language_info": {
   "codemirror_mode": {
    "name": "ipython",
    "version": 3
   },
   "file_extension": ".py",
   "mimetype": "text/x-python",
   "name": "python",
   "nbconvert_exporter": "python",
   "pygments_lexer": "ipython3",
   "version": "3.12.3"
  }
 },
 "nbformat": 4,
 "nbformat_minor": 2
}
