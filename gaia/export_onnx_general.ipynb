{
 "cells": [
  {
   "cell_type": "code",
   "execution_count": 4,
   "metadata": {},
   "outputs": [
    {
     "data": {
      "text/plain": [
       "AutoencoderPure()"
      ]
     },
     "execution_count": 4,
     "metadata": {},
     "output_type": "execute_result"
    }
   ],
   "source": [
    "import yaml\n",
    "import importlib\n",
    "\n",
    "config = yaml.load(open(\"gaia_ae_8_trunc_normal.yaml\"), Loader=yaml.FullLoader)\n",
    "model_class_path = config[\"model\"][\"class_path\"]\n",
    "module_name, class_name = model_class_path.rsplit(\".\", 1)\n",
    "module = importlib.import_module(module_name)\n",
    "model_class = getattr(module, class_name)\n",
    "model_init_args = config[\"model\"][\"init_args\"]\n",
    "model = model_class(**model_init_args)\n",
    "model"
   ]
  },
  {
   "cell_type": "code",
   "execution_count": 3,
   "metadata": {},
   "outputs": [
    {
     "name": "stdout",
     "output_type": "stream",
     "text": [
      "Model Parameter Summary:\n",
      "--------------------------------------------------------------------------------\n",
      "Module                                   Shape                Requires Grad   Params    \n",
      "--------------------------------------------------------------------------------\n",
      "--------------------------------------------------------------------------------\n",
      "Total parameters: 0\n",
      "Trainable parameters: 0\n",
      "Non-trainable parameters: 0\n"
     ]
    }
   ],
   "source": [
    "# Print parameter summary\n",
    "print(\"Model Parameter Summary:\")\n",
    "print(\"-\" * 80)\n",
    "print(f\"{'Module':<40} {'Shape':<20} {'Requires Grad':<15} {'Params':<10}\")\n",
    "print(\"-\" * 80)\n",
    "\n",
    "total_params = 0\n",
    "trainable_params = 0\n",
    "\n",
    "for name, param in model.named_parameters():\n",
    "    param_count = param.numel()\n",
    "    total_params += param_count\n",
    "    if param.requires_grad:\n",
    "        trainable_params += param_count\n",
    "\n",
    "    print(\n",
    "        f\"{name:<40} {str(list(param.shape)):<20} {str(param.requires_grad):<15} {param_count:<10,}\"\n",
    "    )\n",
    "\n",
    "print(\"-\" * 80)\n",
    "print(f\"Total parameters: {total_params:,}\")\n",
    "print(f\"Trainable parameters: {trainable_params:,}\")\n",
    "print(f\"Non-trainable parameters: {total_params - trainable_params:,}\")"
   ]
  }
 ],
 "metadata": {
  "kernelspec": {
   "display_name": ".venv",
   "language": "python",
   "name": "python3"
  },
  "language_info": {
   "codemirror_mode": {
    "name": "ipython",
    "version": 3
   },
   "file_extension": ".py",
   "mimetype": "text/x-python",
   "name": "python",
   "nbconvert_exporter": "python",
   "pygments_lexer": "ipython3",
   "version": "3.12.3"
  }
 },
 "nbformat": 4,
 "nbformat_minor": 2
}
