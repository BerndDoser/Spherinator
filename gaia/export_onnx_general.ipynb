{
 "cells": [
  {
   "cell_type": "code",
   "execution_count": null,
   "metadata": {},
   "outputs": [],
   "source": [
    "from pathlib import Path\n",
    "import wandb\n",
    "import torch\n",
    "\n",
    "model_id = \"model-1tgv4b7q:v0\"\n",
    "model_path = Path(\"artifacts\") / model_id\n",
    "\n",
    "api = wandb.Api()\n",
    "artifact = api.artifact(\"ain-space/gaia/\" + model_id, type=\"model\")\n",
    "if model_path.exists():\n",
    "    print(\"Model already downloaded\")\n",
    "else:\n",
    "    artifact_dir = artifact.download(model_path)\n",
    "\n",
    "ckpt = model_path / \"model.ckpt\"\n",
    "print(\"Loading checkpoint from\", ckpt)\n",
    "checkpoint = torch.load(ckpt, weights_only=True, map_location=\"cpu\")"
   ]
  },
  {
   "cell_type": "code",
   "execution_count": null,
   "metadata": {},
   "outputs": [],
   "source": [
    "from spherinator.models import yaml2model\n",
    "\n",
    "model = yaml2model(\"../experiments/gaia_vae_8.yaml\")\n",
    "output = model(torch.randn(1, 1, 343))"
   ]
  },
  {
   "cell_type": "code",
   "execution_count": null,
   "metadata": {},
   "outputs": [],
   "source": [
    "model.load_state_dict(checkpoint[\"state_dict\"])\n",
    "model.eval()\n",
    "\n",
    "input = torch.randn(10, 1, 343)\n",
    "model(input)"
   ]
  },
  {
   "cell_type": "code",
   "execution_count": null,
   "metadata": {},
   "outputs": [],
   "source": [
    "import os\n",
    "\n",
    "export_path = \"gaia-calibrated-v1\"\n",
    "os.makedirs(export_path, exist_ok=True)\n",
    "\n",
    "export_options = torch.onnx.ExportOptions(dynamic_shapes=False)\n",
    "onnx = torch.onnx.dynamo_export(\n",
    "    model.variational_encoder,\n",
    "    torch.randn(256, 1, 343, device=\"cpu\"),\n",
    "    export_options=export_options,\n",
    ")\n",
    "onnx.save(os.path.join(export_path, \"encoder.onnx\"))\n",
    "\n",
    "onnx = torch.onnx.dynamo_export(\n",
    "    model.decoder, torch.randn(256, 20, device=\"cpu\"), export_options=export_options\n",
    ")\n",
    "onnx.save(os.path.join(export_path, \"decoder.onnx\"))"
   ]
  },
  {
   "cell_type": "code",
   "execution_count": null,
   "metadata": {},
   "outputs": [],
   "source": [
    "import onnxruntime as ort\n",
    "\n",
    "ort_session = ort.InferenceSession(os.path.join(export_path, \"encoder.onnx\"))"
   ]
  },
  {
   "cell_type": "code",
   "execution_count": null,
   "metadata": {},
   "outputs": [],
   "source": [
    "#!rsync gaia-calibrated-v0 space:/var/www/html/space/models/"
   ]
  }
 ],
 "metadata": {
  "kernelspec": {
   "display_name": ".venv",
   "language": "python",
   "name": "python3"
  },
  "language_info": {
   "codemirror_mode": {
    "name": "ipython",
    "version": 3
   },
   "file_extension": ".py",
   "mimetype": "text/x-python",
   "name": "python",
   "nbconvert_exporter": "python",
   "pygments_lexer": "ipython3",
   "version": "3.12.3"
  }
 },
 "nbformat": 4,
 "nbformat_minor": 2
}
