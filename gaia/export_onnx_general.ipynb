{
 "cells": [
  {
   "cell_type": "code",
   "execution_count": 10,
   "metadata": {},
   "outputs": [
    {
     "name": "stdout",
     "output_type": "stream",
     "text": [
      "Model already downloaded\n"
     ]
    }
   ],
   "source": [
    "from pathlib import Path\n",
    "import wandb\n",
    "import torch\n",
    "\n",
    "model_id = \"model-k1knlvtk:v0\"\n",
    "model_path = Path(\"artifacts\") / model_id\n",
    "\n",
    "api = wandb.Api()\n",
    "artifact = api.artifact(\"ain-space/gaia/\" + model_id, type=\"model\")\n",
    "if model_path.exists():\n",
    "    print(\"Model already downloaded\")\n",
    "else:\n",
    "    artifact_dir = artifact.download(model_path)\n",
    "\n",
    "ckpt = artifact_dir + \"/model.ckpt\"\n",
    "checkpoint = torch.load(ckpt, weights_only=True, map_location=\"cpu\")"
   ]
  },
  {
   "cell_type": "code",
   "execution_count": null,
   "metadata": {},
   "outputs": [],
   "source": [
    "model = yaml2model(\"gaia_ae_8_trunc_normal.yaml\")\n",
    "\n",
    "input = torch.randn(1, 1, 343)\n",
    "model(input)"
   ]
  },
  {
   "cell_type": "code",
   "execution_count": null,
   "metadata": {},
   "outputs": [],
   "source": [
    "import torch\n",
    "\n",
    "ckpt = artifact_dir + \"/model.ckpt\"\n",
    "checkpoint = torch.load(ckpt, weights_only=True, map_location=\"cpu\")\n",
    "checkpoint"
   ]
  },
  {
   "cell_type": "code",
   "execution_count": null,
   "metadata": {},
   "outputs": [],
   "source": [
    "model.load_state_dict(checkpoint[\"state_dict\"])\n",
    "model.eval()\n",
    "\n",
    "input = torch.randn(10, 1, 343)\n",
    "model(input)"
   ]
  },
  {
   "cell_type": "code",
   "execution_count": null,
   "metadata": {},
   "outputs": [],
   "source": [
    "import os\n",
    "\n",
    "os.makedirs(\"gaia-calibrated-v0\", exist_ok=True)\n",
    "\n",
    "export_options = torch.onnx.ExportOptions(dynamic_shapes=False)\n",
    "onnx = torch.onnx.dynamo_export(\n",
    "    model.variational_encoder,\n",
    "    torch.randn(256, 1, 343, device=\"cpu\"),\n",
    "    export_options=export_options,\n",
    ")\n",
    "onnx.save(\"gaia-calibrated-v0/encoder.onnx\")\n",
    "\n",
    "onnx = torch.onnx.dynamo_export(\n",
    "    model.decoder, torch.randn(256, 3, device=\"cpu\"), export_options=export_options\n",
    ")\n",
    "onnx.save(\"gaia-calibrated-v0/decoder.onnx\")"
   ]
  },
  {
   "cell_type": "code",
   "execution_count": null,
   "metadata": {},
   "outputs": [],
   "source": [
    "import onnxruntime as ort\n",
    "\n",
    "ort_session = ort.InferenceSession(\"gaia-calibrated-v0/encoder.onnx\")"
   ]
  },
  {
   "cell_type": "code",
   "execution_count": null,
   "metadata": {},
   "outputs": [],
   "source": [
    "#!rsync gaia-calibrated-v0 space:/var/www/html/space/models/"
   ]
  }
 ],
 "metadata": {
  "kernelspec": {
   "display_name": ".venv",
   "language": "python",
   "name": "python3"
  },
  "language_info": {
   "codemirror_mode": {
    "name": "ipython",
    "version": 3
   },
   "file_extension": ".py",
   "mimetype": "text/x-python",
   "name": "python",
   "nbconvert_exporter": "python",
   "pygments_lexer": "ipython3",
   "version": "3.12.3"
  }
 },
 "nbformat": 4,
 "nbformat_minor": 2
}
