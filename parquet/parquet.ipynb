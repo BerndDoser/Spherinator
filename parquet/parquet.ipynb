{
 "cells": [
  {
   "cell_type": "code",
   "execution_count": 34,
   "metadata": {},
   "outputs": [
    {
     "data": {
      "text/plain": [
       "array([[[0.43219313, 0.43819836, 0.88376495, 0.24624543],\n",
       "        [0.36893658, 0.35314718, 0.65310365, 0.31627816],\n",
       "        [0.9240937 , 0.74363723, 0.07594521, 0.24081878]],\n",
       "\n",
       "       [[0.00432076, 0.35138105, 0.54549914, 0.87260439],\n",
       "        [0.42822147, 0.63953437, 0.884968  , 0.44001708],\n",
       "        [0.17099976, 0.3738972 , 0.52043915, 0.48967166]]])"
      ]
     },
     "execution_count": 34,
     "metadata": {},
     "output_type": "execute_result"
    }
   ],
   "source": [
    "import numpy as np\n",
    "\n",
    "data = np.random.rand(2, 3, 4)\n",
    "data"
   ]
  },
  {
   "cell_type": "code",
   "execution_count": 35,
   "metadata": {},
   "outputs": [],
   "source": [
    "import pyarrow as pa\n",
    "\n",
    "tensor = pa.Tensor.from_numpy(data)\n",
    "with pa.OSFile('data.parquet', 'wb') as sink:\n",
    "    pa.ipc.write_tensor(tensor, sink)"
   ]
  },
  {
   "cell_type": "code",
   "execution_count": 36,
   "metadata": {},
   "outputs": [
    {
     "data": {
      "text/plain": [
       "array([[[0.43219313, 0.43819836, 0.88376495, 0.24624543],\n",
       "        [0.36893658, 0.35314718, 0.65310365, 0.31627816],\n",
       "        [0.9240937 , 0.74363723, 0.07594521, 0.24081878]],\n",
       "\n",
       "       [[0.00432076, 0.35138105, 0.54549914, 0.87260439],\n",
       "        [0.42822147, 0.63953437, 0.884968  , 0.44001708],\n",
       "        [0.17099976, 0.3738972 , 0.52043915, 0.48967166]]])"
      ]
     },
     "execution_count": 36,
     "metadata": {},
     "output_type": "execute_result"
    }
   ],
   "source": [
    "with pa.OSFile('data.parquet', 'rb') as source:\n",
    "    tensor = pa.ipc.read_tensor(source)\n",
    "tensor.to_numpy()"
   ]
  }
 ],
 "metadata": {
  "kernelspec": {
   "display_name": "spherinator-ydb7FbWG-py3.9",
   "language": "python",
   "name": "python3"
  },
  "language_info": {
   "codemirror_mode": {
    "name": "ipython",
    "version": 3
   },
   "file_extension": ".py",
   "mimetype": "text/x-python",
   "name": "python",
   "nbconvert_exporter": "python",
   "pygments_lexer": "ipython3",
   "version": "3.9.20"
  }
 },
 "nbformat": 4,
 "nbformat_minor": 2
}
